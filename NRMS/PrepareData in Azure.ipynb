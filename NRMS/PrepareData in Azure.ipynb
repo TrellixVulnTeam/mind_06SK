{
 "cells": [
  {
   "cell_type": "code",
   "execution_count": 3,
   "id": "4e3a8f1d-2013-4350-ad45-0b4c57b8caf9",
   "metadata": {},
   "outputs": [
    {
     "name": "stdout",
     "output_type": "stream",
     "text": [
      "Downloading file MINDsmall_train.zip to /datadrive/mind/mind/https_mind201910small.blob.core.windows.net_release_MINDsmall_train.zip...done, 52952752 bytes.\n",
      "Downloading file MINDsmall_dev.zip to /datadrive/mind/mind/https_mind201910small.blob.core.windows.net_release_MINDsmall_dev.zip...done, 30945572 bytes.\n",
      "Downloading file MINDlarge_train.zip to /datadrive/mind/mind/https_mind201910small.blob.core.windows.net_release_MINDlarge_train.zip...done, 530196631 bytes.\n",
      "Downloading file MINDlarge_dev.zip to /datadrive/mind/mind/https_mind201910small.blob.core.windows.net_release_MINDlarge_dev.zip...done, 103456245 bytes.\n",
      "Downloading file MINDlarge_test.zip to /datadrive/mind/mind/https_mind201910small.blob.core.windows.net_release_MINDlarge_test.zip...done, 605020713 bytes.\n"
     ]
    }
   ],
   "source": [
    "import os\n",
    "import tempfile\n",
    "import shutil\n",
    "import urllib\n",
    "import zipfile\n",
    "import pandas as pd\n",
    "data_path = '/datadrive/'\n",
    "\n",
    "# Temporary folder for data we need during execution of this notebook (we'll clean up\n",
    "# at the end, we promise)\n",
    "temp_dir = os.path.join(data_path, 'mind')\n",
    "os.makedirs(temp_dir, exist_ok=True)\n",
    "\n",
    "# The dataset is split into training and validation set, each with a large and small version.\n",
    "# The format of the four files are the same.\n",
    "# For demonstration purpose, we will use small version validation set only.\n",
    "base_url = 'https://mind201910small.blob.core.windows.net/release'\n",
    "training_small_url = f'{base_url}/MINDsmall_train.zip'\n",
    "validation_small_url = f'{base_url}/MINDsmall_dev.zip'\n",
    "training_large_url = f'{base_url}/MINDlarge_train.zip'\n",
    "validation_large_url = f'{base_url}/MINDlarge_dev.zip'\n",
    "\n",
    "\n",
    "def download_url(url,\n",
    "                 destination_filename=None,\n",
    "                 progress_updater=None,\n",
    "                 force_download=False,\n",
    "                 verbose=True):\n",
    "    \"\"\"\n",
    "    Download a URL to a temporary file\n",
    "    \"\"\"\n",
    "    if not verbose:\n",
    "        progress_updater = None\n",
    "    # This is not intended to guarantee uniqueness, we just know it happens to guarantee\n",
    "    # uniqueness for this application.\n",
    "    if destination_filename is None:\n",
    "        url_as_filename = url.replace('://', '_').replace('/', '_')\n",
    "        destination_filename = \\\n",
    "            os.path.join(temp_dir,url_as_filename)\n",
    "    if (not force_download) and (os.path.isfile(destination_filename)):\n",
    "        if verbose:\n",
    "            print('Bypassing download of already-downloaded file {}'.format(\n",
    "                os.path.basename(url)))\n",
    "        return destination_filename\n",
    "    if verbose:\n",
    "        print('Downloading file {} to {}'.format(os.path.basename(url),\n",
    "                                                 destination_filename),\n",
    "              end='')\n",
    "    urllib.request.urlretrieve(url, destination_filename, progress_updater)\n",
    "    assert (os.path.isfile(destination_filename))\n",
    "    nBytes = os.path.getsize(destination_filename)\n",
    "    if verbose:\n",
    "        print('...done, {} bytes.'.format(nBytes))\n",
    "    return destination_filename\n",
    "\n",
    "\n",
    "training_small_url = f'{base_url}/MINDsmall_train.zip'\n",
    "validation_small_url = f'{base_url}/MINDsmall_dev.zip'\n",
    "training_large_url = f'{base_url}/MINDlarge_train.zip'\n",
    "validation_large_url = f'{base_url}/MINDlarge_dev.zip'\n",
    "test_large_url = f'{base_url}/MINDlarge_test.zip'\n",
    "urls = [training_small_url, validation_small_url, training_large_url, validation_large_url, test_large_url]\n",
    "for url in urls:\n",
    "    #url_as_filename = url.replace('://', '_').replace('/', '_')\n",
    "    #zip_path = os.path.join(temp_dir,url_as_filename)\n",
    "    zip_path =download_url(url, verbose=True)\n",
    "    with zipfile.ZipFile(zip_path, 'r') as zip_ref:\n",
    "        o = url.split(\"/\")[-1].split(\".\")[0]\n",
    "        zip_ref.extractall(os.path.join(temp_dir, o))\n",
    "#path=None\n",
    "\n",
    "\n"
   ]
  },
  {
   "cell_type": "code",
   "execution_count": null,
   "id": "c2cac65b-778c-490c-9e98-63be23b5d3c3",
   "metadata": {},
   "outputs": [],
   "source": []
  },
  {
   "cell_type": "code",
   "execution_count": null,
   "id": "51d17f30-ce43-4e71-9a2d-24b1ca13ab6c",
   "metadata": {},
   "outputs": [],
   "source": []
  }
 ],
 "metadata": {
  "kernelspec": {
   "display_name": "Python 3",
   "language": "python",
   "name": "python3"
  },
  "language_info": {
   "codemirror_mode": {
    "name": "ipython",
    "version": 3
   },
   "file_extension": ".py",
   "mimetype": "text/x-python",
   "name": "python",
   "nbconvert_exporter": "python",
   "pygments_lexer": "ipython3",
   "version": "3.8.12"
  }
 },
 "nbformat": 4,
 "nbformat_minor": 5
}
