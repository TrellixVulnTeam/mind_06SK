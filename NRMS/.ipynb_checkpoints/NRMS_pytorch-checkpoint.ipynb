{
 "cells": [
  {
   "cell_type": "markdown",
   "metadata": {
    "colab_type": "text",
    "id": "view-in-github"
   },
   "source": [
    "<a href=\"https://colab.research.google.com/github/cs229-mind/mind/blob/main/NRMS/NRMS_pytorch.ipynb\" target=\"_parent\"><img src=\"https://colab.research.google.com/assets/colab-badge.svg\" alt=\"Open In Colab\"/></a>"
   ]
  },
  {
   "cell_type": "markdown",
   "metadata": {
    "id": "Q6OlTBsZIlOa"
   },
   "source": [
    "# NRMS: Neural News Recommendation with Multi-Head Self-Attention\n",
    "The following documents are copied from MIND public document.\n",
    "\n",
    "[NRMS](https://wuch15.github.io/paper/EMNLP2019-NRMS.pdf) is a neural news recommendation approach with multi-head selfattention. The core of NRMS is a news encoder and a user encoder. In the newsencoder, a multi-head self-attentions is used to learn news representations from news titles by modeling the interactions between words. In the user encoder, we learn representations of users from their browsed news and use multihead self-attention to capture the relatedness between the news. Besides, we apply additive\n",
    "attention to learn more informative news and user \n",
    "representations by selecting important words and news.\n",
    "\n",
    "## Properties of NRMS:\n",
    "- NRMS is a content-based neural news recommendation approach.\n",
    "- It uses multi-self attention to learn news representations by modeling the iteractions between words and learn user representations by capturing the relationship between user browsed news.\n",
    "- NRMS uses additive attentions to learn informative news and user representations by selecting important words and news.\n",
    "\n",
    "## Data format:\n",
    "For quicker training and evaluaiton, we sample MINDdemo dataset of 5k users from [MIND small dataset](https://msnews.github.io/). The MINDdemo dataset has the same file format as MINDsmall and MINDlarge. If you want to try experiments on MINDsmall and MINDlarge, please change the dowload source. Select the MIND_type parameter from ['large', 'small', 'demo'] to choose dataset.\n",
    " \n",
    "**MINDdemo_train** is used for training, and **MINDdemo_dev** is used for evaluation. Training data and evaluation data are composed of a news file and a behaviors file. You can find more detailed data description in [MIND repo](https://github.com/msnews/msnews.github.io/blob/master/assets/doc/introduction.md)\n",
    "\n",
    "### news data\n",
    "This file contains news information including newsid, category, subcatgory, news title, news abstarct, news url and entities in news title, entities in news abstarct.\n",
    "One simple example: <br>\n",
    "\n",
    "`N46466\tlifestyle\tlifestyleroyals\tThe Brands Queen Elizabeth, Prince Charles, and Prince Philip Swear By\tShop the notebooks, jackets, and more that the royals can't live without.\thttps://www.msn.com/en-us/lifestyle/lifestyleroyals/the-brands-queen-elizabeth,-prince-charles,-and-prince-philip-swear-by/ss-AAGH0ET?ocid=chopendata\t[{\"Label\": \"Prince Philip, Duke of Edinburgh\", \"Type\": \"P\", \"WikidataId\": \"Q80976\", \"Confidence\": 1.0, \"OccurrenceOffsets\": [48], \"SurfaceForms\": [\"Prince Philip\"]}, {\"Label\": \"Charles, Prince of Wales\", \"Type\": \"P\", \"WikidataId\": \"Q43274\", \"Confidence\": 1.0, \"OccurrenceOffsets\": [28], \"SurfaceForms\": [\"Prince Charles\"]}, {\"Label\": \"Elizabeth II\", \"Type\": \"P\", \"WikidataId\": \"Q9682\", \"Confidence\": 0.97, \"OccurrenceOffsets\": [11], \"SurfaceForms\": [\"Queen Elizabeth\"]}]\t[]`\n",
    "<br>\n",
    "\n",
    "In general, each line in data file represents information of one piece of news: <br>\n",
    "\n",
    "`[News ID] [Category] [Subcategory] [News Title] [News Abstrct] [News Url] [Entities in News Title] [Entities in News Abstract] ...`\n",
    "\n",
    "<br>\n",
    "\n",
    "We generate a word_dict file to tranform words in news title to word indexes, and a embedding matrix is initted from pretrained glove embeddings.\n",
    "\n",
    "### behaviors data\n",
    "One simple example: <br>\n",
    "`1\tU82271\t11/11/2019 3:28:58 PM\tN3130 N11621 N12917 N4574 N12140 N9748\tN13390-0 N7180-0 N20785-0 N6937-0 N15776-0 N25810-0 N20820-0 N6885-0 N27294-0 N18835-0 N16945-0 N7410-0 N23967-0 N22679-0 N20532-0 N26651-0 N22078-0 N4098-0 N16473-0 N13841-0 N15660-0 N25787-0 N2315-0 N1615-0 N9087-0 N23880-0 N3600-0 N24479-0 N22882-0 N26308-0 N13594-0 N2220-0 N28356-0 N17083-0 N21415-0 N18671-0 N9440-0 N17759-0 N10861-0 N21830-0 N8064-0 N5675-0 N15037-0 N26154-0 N15368-1 N481-0 N3256-0 N20663-0 N23940-0 N7654-0 N10729-0 N7090-0 N23596-0 N15901-0 N16348-0 N13645-0 N8124-0 N20094-0 N27774-0 N23011-0 N14832-0 N15971-0 N27729-0 N2167-0 N11186-0 N18390-0 N21328-0 N10992-0 N20122-0 N1958-0 N2004-0 N26156-0 N17632-0 N26146-0 N17322-0 N18403-0 N17397-0 N18215-0 N14475-0 N9781-0 N17958-0 N3370-0 N1127-0 N15525-0 N12657-0 N10537-0 N18224-0`\n",
    "<br>\n",
    "\n",
    "In general, each line in data file represents one instance of an impression. The format is like: <br>\n",
    "\n",
    "`[Impression ID] [User ID] [Impression Time] [User Click History] [Impression News]`\n",
    "\n",
    "<br>\n",
    "\n",
    "User Click History is the user historical clicked news before Impression Time. Impression News is the displayed news in an impression, which format is:<br>\n",
    "\n",
    "`[News ID 1]-[label1] ... [News ID n]-[labeln]`\n",
    "\n",
    "<br>\n",
    "Label represents whether the news is clicked by the user. All information of news in User Click History and Impression News can be found in news data file."
   ]
  },
  {
   "cell_type": "markdown",
   "metadata": {
    "id": "7twSCqkVIlOf"
   },
   "source": [
    "\n",
    "\n",
    "\n",
    "## Global settings and imports"
   ]
  },
  {
   "cell_type": "code",
   "execution_count": 1,
   "metadata": {
    "colab": {
     "base_uri": "https://localhost:8080/"
    },
    "id": "IfNroSyvTlpI",
    "outputId": "4a537a60-bb49-43e0-cba6-45c8c30a373d"
   },
   "outputs": [
    {
     "name": "stdout",
     "output_type": "stream",
     "text": [
      "System version: 3.9.7 (default, Sep 16 2021, 13:09:58) \n",
      "[GCC 7.5.0]\n",
      "Tensorflow version: 2.4.1\n",
      "Pytorch version: 1.11.0.dev20211124+cu113\n"
     ]
    }
   ],
   "source": [
    "\n",
    "import sys\n",
    "#define util module path\n",
    "path = '/home/rain/mind/NRMS'\n",
    "sys.path.append(path)\n",
    "data_path = '/home/rain/data'\n",
    "\n",
    "import os\n",
    "import numpy as np\n",
    "import zipfile\n",
    "from tqdm import tqdm\n",
    "#import scrapbook as sb\n",
    "from tempfile import TemporaryDirectory\n",
    "import tensorflow as tf\n",
    "tf.get_logger().setLevel('ERROR') # only show error messages\n",
    "\n",
    "from mind_model.dataloader import DataLoaderTrain, DataLoaderTest, test_iterator, train_iterator\n",
    "from torch.utils.data import Dataset, DataLoader\n",
    "from mind_model.preprocess import read_news, read_news_bert, get_doc_input, get_doc_input_bert\n",
    "from mind_model.model_bert import ModelBert\n",
    "from mind_model.parameters import parse_args\n",
    "import torch.optim as optim\n",
    "from pathlib import Path\n",
    "import mind_model.utils as utils\n",
    "import os\n",
    "import sys\n",
    "import csv\n",
    "import logging\n",
    "import datetime\n",
    "from transformers import AutoTokenizer, AutoModel, AutoConfig\n",
    "import torch\n",
    "from torch import nn\n",
    "from mind_model.nrms import TwoTowerModel as TwoTower\n",
    "\n",
    "from mind_model.metrics import roc_auc_score, ndcg_score, mrr_score, ctr_score, cal_metric\n",
    "import csv\n",
    "import datetime\n",
    "import time\n",
    "\n",
    "print(\"System version: {}\".format(sys.version))\n",
    "print(\"Tensorflow version: {}\".format(tf.__version__))\n",
    "print(\"Pytorch version: {}\".format(torch.__version__))\n",
    "\n"
   ]
  },
  {
   "cell_type": "markdown",
   "metadata": {
    "id": "dmCI4jxzIlOj"
   },
   "source": [
    "## Prepare parameters"
   ]
  },
  {
   "cell_type": "code",
   "execution_count": 10,
   "metadata": {
    "colab": {
     "base_uri": "https://localhost:8080/"
    },
    "id": "BvGCosniAkhN",
    "outputId": "ce53d27b-c179-43eb-d894-e9842298168e"
   },
   "outputs": [
    {
     "name": "stdout",
     "output_type": "stream",
     "text": [
      "[INFO 2021-11-24 18:29:03,730] Namespace(mode='test', root_data_dir='~/mind/', dataset='MIND', train_dir='train', test_dir='test', filename_pat='behaviors*.tsv', model_dir='./model', batch_size=512, npratio=1, enable_gpu=True, enable_hvd=True, shuffle_buffer_size=10000, num_workers=2, filter_num=0, log_steps=100, epochs=4, lr=0.0001, news_attributes=['title'], process_uet=False, process_bing=False, num_words_title=24, num_words_abstract=50, num_words_body=50, num_words_uet=16, num_words_bing=26, user_log_length=50, word_embedding_dim=768, embedding_source='random', freeze_embedding=False, use_padded_news_embedding=False, padded_news_different_word_index=False, news_dim=64, news_query_vector_dim=200, user_query_vector_dim=200, num_attention_heads=20, user_log_mask=True, drop_rate=0.2, save_steps=500, max_steps_per_epoch=200000, load_ckpt_name='epoch-1-40000.pt', title_share_encoder=False, use_pretrain_news_encoder=False, pretrain_news_encoder_path='.', uet_agg_method='attention', model_type='tnlrv3', do_lower_case=True, model_name_or_path='../Turing/unilm2-base-uncased.bin', config_name='../Turing/unilm2-base-uncased-config.json', tokenizer_name='../Turing/unilm2-base-uncased-vocab.txt', f='/home/rain/.local/share/jupyter/runtime/kernel-6fa26161-62d6-41a9-8d02-e60396d7fe1d.json')\n",
      "[INFO 2021-11-24 18:29:03,730] Namespace(mode='test', root_data_dir='~/mind/', dataset='MIND', train_dir='train', test_dir='test', filename_pat='behaviors*.tsv', model_dir='./model', batch_size=512, npratio=1, enable_gpu=True, enable_hvd=True, shuffle_buffer_size=10000, num_workers=2, filter_num=0, log_steps=100, epochs=4, lr=0.0001, news_attributes=['title'], process_uet=False, process_bing=False, num_words_title=24, num_words_abstract=50, num_words_body=50, num_words_uet=16, num_words_bing=26, user_log_length=50, word_embedding_dim=768, embedding_source='random', freeze_embedding=False, use_padded_news_embedding=False, padded_news_different_word_index=False, news_dim=64, news_query_vector_dim=200, user_query_vector_dim=200, num_attention_heads=20, user_log_mask=True, drop_rate=0.2, save_steps=500, max_steps_per_epoch=200000, load_ckpt_name='epoch-1-40000.pt', title_share_encoder=False, use_pretrain_news_encoder=False, pretrain_news_encoder_path='.', uet_agg_method='attention', model_type='tnlrv3', do_lower_case=True, model_name_or_path='../Turing/unilm2-base-uncased.bin', config_name='../Turing/unilm2-base-uncased-config.json', tokenizer_name='../Turing/unilm2-base-uncased-vocab.txt', f='/home/rain/.local/share/jupyter/runtime/kernel-6fa26161-62d6-41a9-8d02-e60396d7fe1d.json')\n"
     ]
    },
    {
     "name": "stderr",
     "output_type": "stream",
     "text": [
      "Some weights of the model checkpoint at bert-base-uncased were not used when initializing BertModel: ['cls.predictions.decoder.weight', 'cls.predictions.bias', 'cls.seq_relationship.bias', 'cls.predictions.transform.dense.bias', 'cls.seq_relationship.weight', 'cls.predictions.transform.LayerNorm.weight', 'cls.predictions.transform.LayerNorm.bias', 'cls.predictions.transform.dense.weight']\n",
      "- This IS expected if you are initializing BertModel from the checkpoint of a model trained on another task or with another architecture (e.g. initializing a BertForSequenceClassification model from a BertForPreTraining model).\n",
      "- This IS NOT expected if you are initializing BertModel from the checkpoint of a model that you expect to be exactly identical (initializing a BertForSequenceClassification model from a BertForSequenceClassification model).\n"
     ]
    }
   ],
   "source": [
    "utils.setuplogger()\n",
    "args = parse_args()\n",
    "args.enable_hvd = False\n",
    "args.batch_size = 64\n",
    "args.news_dim = 400\n",
    "args.word_emb_size = 768\n",
    "#data_path = '/content/gdrive/My Drive' # '/content/drive/MyDrive'\n",
    "train_dir = os.path.join(data_path, 'MINDsmall_train')\n",
    "train_news_file = os.path.join(train_dir, r'news.tsv')\n",
    "train_behaviors_file = os.path.join(train_dir, r'behaviors.tsv')\n",
    "\n",
    "valid_dir = os.path.join(data_path, 'MINDsmall_dev')\n",
    "valid_news_file = os.path.join(valid_dir, r'news.tsv')\n",
    "valid_behaviors_file = os.path.join(valid_dir, r'behaviors.tsv')\n",
    "\n",
    "test_dir = os.path.join(data_path, 'MINDsmall_test')\n",
    "test_news_file = os.path.join(test_dir, r'news.tsv')\n",
    "test_behaviors_file = os.path.join(test_dir, r'behaviors.tsv')\n",
    "tokenizer = AutoTokenizer.from_pretrained(\"bert-base-uncased\")\n",
    "config = AutoConfig.from_pretrained(\"bert-base-uncased\", output_hidden_states=True)\n",
    "bert_model = AutoModel.from_pretrained(\"bert-base-uncased\",config=config)\n",
    "bert_model = bert_model.cuda()\n",
    "\n",
    "finetuneset={\n",
    "'encoder.layer.10.attention.self.query.weight',\n",
    "'encoder.layer.10.attention.self.query.bias',\n",
    "'encoder.layer.10.attention.self.key.weight',\n",
    "'encoder.layer.10.attention.self.key.bias',\n",
    "'encoder.layer.10.attention.self.value.weight',\n",
    "'encoder.layer.10.attention.self.value.bias',\n",
    "'encoder.layer.10.attention.output.dense.weight',\n",
    "'encoder.layer.10.attention.output.dense.bias',\n",
    "'encoder.layer.10.attention.output.LayerNorm.weight',\n",
    "'encoder.layer.10.attention.output.LayerNorm.bias',\n",
    "'encoder.layer.10.intermediate.dense.weight',\n",
    "'encoder.layer.10.intermediate.dense.bias',\n",
    "'encoder.layer.10.output.dense.weight',\n",
    "'encoder.layer.10.output.dense.bias',\n",
    "'encoder.layer.10.output.LayerNorm.weight',\n",
    "'encoder.layer.10.output.LayerNorm.bias',\n",
    "'encoder.layer.11.attention.self.query.weight',\n",
    "'encoder.layer.11.attention.self.query.bias',\n",
    "'encoder.layer.11.attention.self.key.weight',\n",
    "'encoder.layer.11.attention.self.key.bias',\n",
    "'encoder.layer.11.attention.self.value.weight',\n",
    "'encoder.layer.11.attention.self.value.bias',\n",
    "'encoder.layer.11.attention.output.dense.weight',\n",
    "'encoder.layer.11.attention.output.dense.bias',\n",
    "'encoder.layer.11.attention.output.LayerNorm.weight',\n",
    "'encoder.layer.11.attention.output.LayerNorm.bias',\n",
    "'encoder.layer.11.intermediate.dense.weight',\n",
    "'encoder.layer.11.intermediate.dense.bias',\n",
    "'encoder.layer.11.output.dense.weight',\n",
    "'encoder.layer.11.output.dense.bias',\n",
    "'encoder.layer.11.output.LayerNorm.weight',\n",
    "'encoder.layer.11.output.LayerNorm.bias',\n",
    "'pooler.dense.weight',\n",
    "'pooler.dense.bias',\n",
    "'rel_pos_bias.weight',\n",
    "'classifier.weight',\n",
    "'classifier.bias'}\n",
    "for name,param in bert_model.named_parameters():\n",
    "    if name not in finetuneset:\n",
    "        param.requires_grad = False\n"
   ]
  },
  {
   "cell_type": "markdown",
   "metadata": {
    "id": "30cOYaDTIlOk"
   },
   "source": [
    "## Download and load data"
   ]
  },
  {
   "cell_type": "code",
   "execution_count": 3,
   "metadata": {},
   "outputs": [
    {
     "name": "stdout",
     "output_type": "stream",
     "text": [
      "4.12.5\n"
     ]
    }
   ],
   "source": [
    "import transformers\n",
    "print(transformers.__version__)"
   ]
  },
  {
   "cell_type": "code",
   "execution_count": 4,
   "metadata": {
    "colab": {
     "base_uri": "https://localhost:8080/"
    },
    "id": "QhDoORAnXg8p",
    "outputId": "e8a06b90-ebc3-4ff2-ba89-462575346d83"
   },
   "outputs": [
    {
     "name": "stderr",
     "output_type": "stream",
     "text": [
      "0it [00:00, ?it/s]/home/rain/anaconda3/envs/datascience/lib/python3.9/site-packages/transformers/tokenization_utils_base.py:2212: FutureWarning: The `pad_to_max_length` argument is deprecated and will be removed in a future version, use `padding=True` or `padding='longest'` to pad to the longest sequence in the batch, or use `padding='max_length'` to pad to a max length. In this case, you can give a specific length with `max_length` (e.g. `max_length=45`) or leave max_length to None to pad to the maximal input size of the model (e.g. 512 for Bert).\n",
      "  warnings.warn(\n",
      "51282it [00:08, 5906.40it/s]\n",
      "100%|██████████| 51282/51282 [00:00<00:00, 149789.37it/s]\n"
     ]
    }
   ],
   "source": [
    "# def train_iterator(train_dir, args, tokenizer):\n",
    "    \n",
    "#     train_news_file = os.path.join(train_dir, r'news.tsv')\n",
    "    \n",
    "#     news, news_index, category_dict, domain_dict, subcategory_dict = read_news_bert(\n",
    "#         train_news_file, \n",
    "#         args,\n",
    "#         tokenizer\n",
    "#     )\n",
    "\n",
    "#     news_title, news_title_type, news_title_attmask, \\\n",
    "#     news_abstract, news_abstract_type, news_abstract_attmask, \\\n",
    "#     news_body, news_body_type, news_body_attmask, \\\n",
    "#     news_category, news_domain, news_subcategory = get_doc_input_bert(\n",
    "#         news, news_index, category_dict, domain_dict, subcategory_dict, args)\n",
    "\n",
    "#     word_dict = None\n",
    "#     #args.enable_hvd = False\n",
    "#     hvd_size, hvd_rank, hvd_local_rank = utils.init_hvd_cuda(\n",
    "#             args.enable_hvd, args.enable_gpu)\n",
    "#     news_combined = np.concatenate([\n",
    "#             x for x in\n",
    "#             [news_title, news_title_type, news_title_attmask, \\\n",
    "#                 news_abstract, news_abstract_type, news_abstract_attmask, \\\n",
    "#                 news_body, news_body_type, news_body_attmask, \\\n",
    "#                 news_category, news_domain, news_subcategory]\n",
    "#             if x is not None], axis=1)\n",
    "#     dataloader = DataLoaderTrain(\n",
    "#             news_index=news_index,\n",
    "#             news_combined=news_combined,\n",
    "#             word_dict=word_dict,\n",
    "#             data_dir=train_dir,\n",
    "#             filename_pat=args.filename_pat,\n",
    "#             args=args,\n",
    "#             worker_size=hvd_size,\n",
    "#             worker_rank=hvd_rank,\n",
    "#             cuda_device_idx=hvd_local_rank,\n",
    "#             enable_prefetch=True,\n",
    "#             enable_shuffle=True,\n",
    "#             enable_gpu=args.enable_gpu,\n",
    "#         )\n",
    "#     return {\"iterator\": dataloader,\n",
    "#             \"category_dict\":category_dict,\n",
    "#             \"domain_dict\":domain_dict,\n",
    "#             \"subcategory_dict\":subcategory_dict,\n",
    "#            }\n"
   ]
  },
  {
   "cell_type": "markdown",
   "metadata": {
    "id": "a4jf58arndKN"
   },
   "source": [
    "## Train Model"
   ]
  },
  {
   "cell_type": "code",
   "execution_count": 5,
   "metadata": {
    "colab": {
     "base_uri": "https://localhost:8080/"
    },
    "id": "pKJqy9_s_zy4",
    "outputId": "9221f014-df82-4b54-e5c2-1261cd732a91"
   },
   "outputs": [
    {
     "name": "stdout",
     "output_type": "stream",
     "text": [
      "[INFO 2021-11-24 16:47:50,467] Training...\n",
      "[INFO 2021-11-24 16:47:50,468] DataLoader __iter__()\n",
      "get_files: /home/rain/data/MINDsmall_train, behaviors*.tsv\n"
     ]
    },
    {
     "name": "stderr",
     "output_type": "stream",
     "text": [
      "\r",
      "0it [00:00, ?it/s]"
     ]
    },
    {
     "name": "stdout",
     "output_type": "stream",
     "text": [
      "files: ['/home/rain/data/MINDsmall_train/behaviors.tsv']\n",
      "[INFO 2021-11-24 16:47:50,472] worker_rank:0, worker_size:1, shuffle:True, seed:0, directory:/home/rain/data/MINDsmall_train, files:['/home/rain/data/MINDsmall_train/behaviors.tsv']\n",
      "[INFO 2021-11-24 16:47:50,493] data_paths: ['/home/rain/data/MINDsmall_train/behaviors.tsv']\n",
      "WARNING: AutoGraph could not transform <bound method StreamReader._process_record of <mind_model.streaming.StreamReader object at 0x7f8860c695b0>> and will run it as-is.\n",
      "Please report this to the TensorFlow team. When filing the bug, set the verbosity to 10 (on Linux, `export AUTOGRAPH_VERBOSITY=10`) and attach the full output.\n",
      "Cause: module 'gast' has no attribute 'Index'\n",
      "To silence this warning, decorate the function with @tf.autograph.experimental.do_not_convert\n"
     ]
    },
    {
     "name": "stderr",
     "output_type": "stream",
     "text": [
      "/home/rain/mind/NRMS/mind_model/dataloader.py:171: UserWarning: Creating a tensor from a list of numpy.ndarrays is extremely slow. Please consider converting the list to a single numpy.ndarray with numpy.array() before converting to a tensor. (Triggered internally at  ../torch/csrc/utils/tensor_new.cpp:210.)\n",
      "  user_feature_batch = torch.LongTensor(user_feature_batch).cuda()\n",
      "[0] Ed: 2000, train_loss: 0.92485, acc: 0.53447: : 1001it [01:48,  9.20it/s]"
     ]
    },
    {
     "name": "stdout",
     "output_type": "stream",
     "text": [
      "[INFO 2021-11-24 16:49:39,250] epoch: 1 loss: 0.92485 accuracy 0.53447\n"
     ]
    },
    {
     "name": "stderr",
     "output_type": "stream",
     "text": [
      "\n"
     ]
    }
   ],
   "source": [
    "train_load = train_iterator(train_dir=train_dir, args=args, tokenizer=tokenizer)\n",
    "category_dict = train_load[\"category_dict\"]\n",
    "domain_dict = train_load[\"domain_dict\"]\n",
    "subcategory_dict = train_load[\"subcategory_dict\"]\n",
    "dataloader = train_load[\"iterator\"]\n",
    "#from mind_model.nrms import TwoTowerModel as TwoTower\n",
    "model = TwoTower(args, bert_model, len(category_dict), len(domain_dict), len(subcategory_dict))\n",
    "args.optimizer = 'Adam'\n",
    "args.enable_lr_scheduler = False\n",
    "if args.enable_gpu:\n",
    "    model = model.cuda()\n",
    "if args.optimizer == 'Adam':\n",
    "    optimizer = optim.Adam(model.parameters(), lr=args.lr)\n",
    "elif args.optimizer == 'AdamW':\n",
    "    optimizer = AdamW(model.parameters(), lr=args.lr, weight_decay=args.weight_decay, correct_bias=args.correct_bias)\n",
    "else:\n",
    "    optimizer = AdamW(model.parameters(), lr=args.lr)\n",
    "if args.enable_lr_scheduler:\n",
    "    lr_scheduler = get_scheduler(\n",
    "        \"linear\",\n",
    "        optimizer=optimizer,\n",
    "        num_warmup_steps=args.num_warmup_steps,\n",
    "        num_training_steps=num_training_steps\n",
    "    )\n",
    "logging.info('Training...')\n",
    "LOSS, ACC = [], []\n",
    "args.epochs=1\n",
    "args.max_steps_per_epoch = 1000\n",
    "for ep in range(args.epochs):\n",
    "    loss = 0.0\n",
    "    accuracy = 0.0\n",
    "    tqdm_util = tqdm(enumerate(dataloader))\n",
    "    for cnt, (log_ids, log_mask, input_ids, targets) in tqdm_util:\n",
    "        if cnt > args.max_steps_per_epoch:\n",
    "            break\n",
    "\n",
    "        if args.enable_gpu:\n",
    "            log_ids = log_ids.cuda(non_blocking=True)\n",
    "            log_mask = log_mask.cuda(non_blocking=True)\n",
    "            input_ids = input_ids.cuda(non_blocking=True)\n",
    "            #user_ids = user_ids.cuda(non_blocking=True)\n",
    "            targets = targets.cuda(non_blocking=True)\n",
    "\n",
    "        bz_loss, y_hat = model(input_ids, log_ids, log_mask, targets)\n",
    "        # summary(model, [input_ids.shape, log_ids.shape, log_mask.shape, targets.shape], batch_size=16, device='cuda' if args.enable_gp else 'cpu')\n",
    "        optimizer.zero_grad()\n",
    "        bz_loss.backward()\n",
    "        optimizer.step()\n",
    "        if args.enable_lr_scheduler:\n",
    "            lr_scheduler.step()\n",
    "\n",
    "        loss += (bz_loss.data.float() - loss) / (cnt + 1)\n",
    "        accuracy += (utils.acc(targets, y_hat) - accuracy) / (cnt + 1)\n",
    "        if cnt % args.log_steps == 0:\n",
    "            LOSS.append(loss.data)\n",
    "            ACC.append(accuracy)\n",
    "            #logging.info(\n",
    "            tqdm_util.set_description(\n",
    "                '[{}] Ed: {}, train_loss: {:.5f}, acc: {:.5f}'.format(\n",
    "                    hvd_rank, cnt * args.batch_size, loss.data,\n",
    "                    accuracy))\n",
    "\n",
    "        # save model minibatch\n",
    "        #logging.info('[{}] Ed: {} {} {}'.format(hvd_rank, cnt, args.save_steps, cnt % args.save_steps))\n",
    "    logging.info('epoch: {} loss: {:.5f} accuracy {:.5f}'.format(ep + 1, loss, accuracy))\n"
   ]
  },
  {
   "cell_type": "code",
   "execution_count": null,
   "metadata": {
    "id": "Rn6chUx61-Zh"
   },
   "outputs": [],
   "source": [
    "#args.log_steps"
   ]
  },
  {
   "cell_type": "code",
   "execution_count": 11,
   "metadata": {
    "colab": {
     "base_uri": "https://localhost:8080/"
    },
    "id": "oz18cYopA41q",
    "outputId": "542f86ec-7db2-4317-d21e-6b296838e5cd",
    "scrolled": true
   },
   "outputs": [
    {
     "name": "stderr",
     "output_type": "stream",
     "text": [
      "0it [00:00, ?it/s]/home/rain/anaconda3/envs/datascience/lib/python3.9/site-packages/transformers/tokenization_utils_base.py:2212: FutureWarning: The `pad_to_max_length` argument is deprecated and will be removed in a future version, use `padding=True` or `padding='longest'` to pad to the longest sequence in the batch, or use `padding='max_length'` to pad to a max length. In this case, you can give a specific length with `max_length` (e.g. `max_length=45`) or leave max_length to None to pad to the maximal input size of the model (e.g. 512 for Bert).\n",
      "  warnings.warn(\n",
      "42416it [00:07, 5939.14it/s]\n",
      "100%|██████████| 42416/42416 [00:00<00:00, 144090.45it/s]\n",
      "100%|██████████| 166/166 [00:27<00:00,  5.95it/s]\n"
     ]
    }
   ],
   "source": [
    "# #args.max_steps_per_epoch\n",
    "# class NewsDataset(Dataset):\n",
    "#     def __init__(self, data):\n",
    "#         self.data = data\n",
    "\n",
    "#     def __getitem__(self, idx):\n",
    "#         return self.data[idx]\n",
    "\n",
    "#     def __len__(self):\n",
    "#         return self.data.shape[0]\n",
    "    \n",
    "    \n",
    "# def news_collate_fn(arr):\n",
    "#     arr = torch.LongTensor(arr)\n",
    "#     return arr\n",
    "\n",
    "\n",
    "# def test_iterator(model, valid_dir, args, tokenizer):\n",
    "#     valid_news_file = os.path.join(valid_dir, r'news.tsv')\n",
    "#     news, news_index, category_dict, domain_dict, subcategory_dict = read_news_bert(\n",
    "#         valid_news_file, \n",
    "#         args,\n",
    "#         tokenizer\n",
    "#     )\n",
    "\n",
    "#     news_title, news_title_type, news_title_attmask, \\\n",
    "#     news_abstract, news_abstract_type, news_abstract_attmask, \\\n",
    "#     news_body, news_body_type, news_body_attmask, \\\n",
    "#     news_category, news_domain, news_subcategory = get_doc_input_bert(\n",
    "#         news, news_index, category_dict, domain_dict, subcategory_dict, args)\n",
    "\n",
    "#     word_dict = None\n",
    "#     #args.enable_hvd = False\n",
    "#     hvd_size, hvd_rank, hvd_local_rank = utils.init_hvd_cuda(\n",
    "#             args.enable_hvd, args.enable_gpu)\n",
    "#     news_combined = np.concatenate([\n",
    "#             x for x in\n",
    "#             [news_title, news_title_type, news_title_attmask, \\\n",
    "#                 news_abstract, news_abstract_type, news_abstract_attmask, \\\n",
    "#                 news_body, news_body_type, news_body_attmask, \\\n",
    "#                 news_category, news_domain, news_subcategory]\n",
    "#             if x is not None], axis=1)\n",
    "\n",
    "#     news_dataset = NewsDataset(news_combined)\n",
    "#     news_dataloader = DataLoader(news_dataset,\n",
    "#                                 batch_size=args.batch_size * 4,\n",
    "#                                 num_workers=args.num_workers,\n",
    "#                                 collate_fn=news_collate_fn)\n",
    "\n",
    "#     news_scoring = []\n",
    "#     with torch.no_grad():\n",
    "#         for input_ids in tqdm(news_dataloader):\n",
    "#             if args.enable_gpu:\n",
    "#                 input_ids = input_ids.cuda()\n",
    "#             news_vec = model.news_encoder(input_ids)\n",
    "#             news_vec = news_vec.to(torch.device(\"cpu\")).detach().numpy()\n",
    "#             news_scoring.extend(news_vec)\n",
    "\n",
    "#     news_scoring = np.array(news_scoring)    \n",
    "\n",
    "#     dev_dataloader = DataLoaderTest(\n",
    "#             news_index=news_index,\n",
    "#             news_scoring=news_scoring,\n",
    "#             word_dict=word_dict,\n",
    "#             data_dir=valid_dir,\n",
    "#             filename_pat=args.filename_pat,\n",
    "#             args=args,\n",
    "#             worker_size=hvd_size,\n",
    "#             worker_rank=hvd_rank,\n",
    "#             cuda_device_idx=hvd_local_rank,\n",
    "#             enable_prefetch=True,\n",
    "#             enable_shuffle=True,\n",
    "#             enable_gpu=args.enable_gpu,\n",
    "#         )\n",
    "#     return {\"iterator\": dev_dataloader,\n",
    "#             \"category_dict\":category_dict,\n",
    "#             \"domain_dict\":domain_dict,\n",
    "#             \"subcategory_dict\":subcategory_dict,\n",
    "#            }\n"
   ]
  },
  {
   "cell_type": "code",
   "execution_count": 32,
   "metadata": {},
   "outputs": [
    {
     "data": {
      "text/plain": [
       "(42417, 400)"
      ]
     },
     "execution_count": 32,
     "metadata": {},
     "output_type": "execute_result"
    }
   ],
   "source": [
    "news_scoring.shape"
   ]
  },
  {
   "cell_type": "code",
   "execution_count": null,
   "metadata": {
    "colab": {
     "background_save": true,
     "base_uri": "https://localhost:8080/"
    },
    "id": "07Np44B7rOz2",
    "outputId": "96bf77ce-adb1-46e6-d433-5554f3146817"
   },
   "outputs": [
    {
     "name": "stdout",
     "output_type": "stream",
     "text": [
      "[INFO 2021-11-24 22:14:55,895] DataLoader __iter__()\n",
      "[INFO 2021-11-24 22:14:55,895] DataLoader __iter__()\n",
      "[INFO 2021-11-24 22:14:55,898] shut down pool.\n",
      "[INFO 2021-11-24 22:14:55,898] shut down pool.\n",
      "get_files: /home/rain/data/MINDsmall_dev, behaviors*.tsv"
     ]
    },
    {
     "name": "stderr",
     "output_type": "stream",
     "text": [
      "\r",
      "0it [00:00, ?it/s]"
     ]
    },
    {
     "name": "stdout",
     "output_type": "stream",
     "text": [
      "\n",
      "files: ['/home/rain/data/MINDsmall_dev/behaviors.tsv']\n",
      "[INFO 2021-11-24 22:14:55,908] worker_rank:0, worker_size:1, shuffle:True, seed:2, directory:/home/rain/data/MINDsmall_dev, files:['/home/rain/data/MINDsmall_dev/behaviors.tsv']\n",
      "[INFO 2021-11-24 22:14:55,908] worker_rank:0, worker_size:1, shuffle:True, seed:2, directory:/home/rain/data/MINDsmall_dev, files:['/home/rain/data/MINDsmall_dev/behaviors.tsv']\n",
      "[INFO 2021-11-24 22:14:55,910] visible_devices:[PhysicalDevice(name='/physical_device:CPU:0', device_type='CPU')]\n",
      "[INFO 2021-11-24 22:14:55,910] visible_devices:[PhysicalDevice(name='/physical_device:CPU:0', device_type='CPU')]\n",
      "[INFO 2021-11-24 22:14:55,912] [StreamReader] path_len:1, paths: ['/home/rain/data/MINDsmall_dev/behaviors.tsv']\n",
      "[INFO 2021-11-24 22:14:55,912] [StreamReader] path_len:1, paths: ['/home/rain/data/MINDsmall_dev/behaviors.tsv']\n"
     ]
    },
    {
     "name": "stderr",
     "output_type": "stream",
     "text": [
      "1143it [02:42,  7.25it/s]"
     ]
    }
   ],
   "source": [
    "\n",
    "start_time = time.time()\n",
    "\n",
    "AUC, MRR, nDCG5, nDCG10, SCORE = [], [], [], [], []\n",
    "count = 0\n",
    "outfile = os.path.join(valid_dir, \"prediction_{}_{}.tsv\".format(datetime.datetime.utcnow().strftime(\"%Y%m%d%H%M%S\"), hvd_local_rank))\n",
    "\n",
    "\n",
    "# def get_mean(arr):\n",
    "#     return [np.array(i).mean() for i in arr]\n",
    "\n",
    "# def write_score(SCORE, outfile):\n",
    "#     # format the score: ImpressionID [Rank-of-News1,Rank-of-News2,...,Rank-of-NewsN]\n",
    "#     for score in tqdm(SCORE):\n",
    "#         argsort = np.argsort(-score[1])\n",
    "#         ranks = np.empty_like(argsort)\n",
    "#         ranks[argsort] = np.arange(len(score[1]))\n",
    "#         score[1] = (ranks + 1).tolist()\n",
    "\n",
    "#     # save the prediction result\n",
    "#     def write_tsv(score):\n",
    "#         with open(outfile, 'a') as out_file:\n",
    "#             tsv_writer = csv.writer(out_file, delimiter='\\t')\n",
    "#             tsv_writer.writerows(score)\n",
    "#     write_tsv(SCORE)\n",
    "# tqdm_util_eval = tqdm(enumerate(dev_dataloader))\n",
    "# def print_metrics(hvd_local_rank, cnt, x):\n",
    "#     tqdm_util.set_description(\"[{}] Ed: {}: {}\".format(hvd_local_rank, cnt, \\\n",
    "#         '\\t'.join([\"{:0.2f}\".format(i * 100) for i in x])))\n",
    "# def cal_metric(labels, preds, metrics):\n",
    "#     \"\"\"Calculate metrics.\n",
    "\n",
    "#     Available options are: `auc`, `rmse`, `logloss`, `acc` (accurary), `f1`, `mean_mrr`,\n",
    "#     `ndcg` (format like: ndcg@2;4;6;8), `hit` (format like: hit@2;4;6;8), `group_auc`.\n",
    "\n",
    "#     Args:\n",
    "#         labels (array-like): Labels.\n",
    "#         preds (array-like): Predictions.\n",
    "#         metrics (list): List of metric names.\n",
    "\n",
    "#     Return:\n",
    "#         dict: Metrics.\n",
    "\n",
    "#     Examples:\n",
    "#         >>> cal_metric(labels, preds, [\"ndcg@2;4;6\", \"group_auc\"])\n",
    "#         {'ndcg@2': 0.4026, 'ndcg@4': 0.4953, 'ndcg@6': 0.5346, 'group_auc': 0.8096}\n",
    "\n",
    "#     \"\"\"\n",
    "#     res = {}\n",
    "#     for metric in metrics:\n",
    "#         if metric == \"auc\":\n",
    "#             auc = roc_auc_score(np.asarray(labels), np.asarray(preds))\n",
    "#             res[\"auc\"] = round(auc, 4)\n",
    "#         elif metric == \"mean_mrr\":\n",
    "#             mean_mrr = np.mean(\n",
    "#                 [\n",
    "#                     mrr_score(each_labels, each_preds)\n",
    "#                     for each_labels, each_preds in zip(labels, preds)\n",
    "#                 ]\n",
    "#             )\n",
    "#             res[\"mean_mrr\"] = round(mean_mrr, 4)\n",
    "#         elif metric.startswith(\"ndcg\"):  # format like:  ndcg@2;4;6;8\n",
    "#             ndcg_list = [1, 2]\n",
    "#             ks = metric.split(\"@\")\n",
    "#             if len(ks) > 1:\n",
    "#                 ndcg_list = [int(token) for token in ks[1].split(\";\")]\n",
    "#             for k in ndcg_list:\n",
    "#                 ndcg_temp = np.mean(\n",
    "#                     [\n",
    "#                         ndcg_score(each_labels, each_preds, k)\n",
    "#                         for each_labels, each_preds in zip(labels, preds)\n",
    "#                     ]\n",
    "#                 )\n",
    "#                 res[\"ndcg@{0}\".format(k)] = round(ndcg_temp, 4)\n",
    "#         elif metric == \"group_auc\":\n",
    "#             group_auc = np.mean(\n",
    "#                 [\n",
    "#                     roc_auc_score(each_labels, each_preds)\n",
    "#                     for each_labels, each_preds in zip(labels, preds)\n",
    "#                 ]\n",
    "#             )\n",
    "#             res[\"group_auc\"] = round(group_auc, 4)\n",
    "#         else:\n",
    "#             raise ValueError(\"Metric {0} not defined\".format(metric))\n",
    "#     return res\n",
    "\n",
    "test_load = test_iterator(model=model, valid_dir=valid_dir, args=args, tokenizer=tokenizer)\n",
    "\n",
    "dev_dataloader = test_load[\"iterator\"]\n",
    "\n",
    "\n",
    "eval_metrics = ['group_auc', 'mean_mrr', 'ndcg@5;10']\n",
    "group_impr_indexes = []\n",
    "group_labels = []\n",
    "group_preds = []\n",
    "\n",
    "tqdm_util_eval = tqdm(enumerate(dev_dataloader))\n",
    "\n",
    "with torch.no_grad():    \n",
    "    for cnt, (impression_ids, log_vecs, log_mask, news_vecs, news_bias, labels) in tqdm_util_eval:\n",
    "        count = cnt\n",
    "        if args.enable_gpu:\n",
    "            #user_ids = user_ids.cuda(non_blocking=True)\n",
    "            log_vecs = log_vecs.cuda(non_blocking=True)\n",
    "            log_mask = log_mask.cuda(non_blocking=True)\n",
    "        user_vecs = model.user_encoder(log_vecs, log_mask).to(torch.device(\"cpu\")).detach().numpy()\n",
    "\n",
    "        for impression_id, user_vec, news_vec, bias, label in zip(\n",
    "                impression_ids, user_vecs, news_vecs, news_bias, labels):\n",
    "            \n",
    "            score = np.dot(\n",
    "                news_vec, user_vec\n",
    "            )\n",
    "            group_impr_indexes.append(impression_id)\n",
    "            group_labels.append(label)\n",
    "            group_preds.append(score)\n",
    "            \n",
    "    # print and save metrics\n",
    "    #logging.info(\"Print final metrics\")\n",
    "    print(\"Print final metrics\")\n",
    "    eval_res = cal_metric(labels=group_labels, preds=group_preds, metrics=eval_metrics)\n",
    "    eval_info = \", \".join(\n",
    "                [\n",
    "                    str(item[0]) + \":\" + str(item[1])\n",
    "                    for item in sorted(eval_res.items(), key=lambda x: x[0])\n",
    "                ]\n",
    "            )\n",
    "\n",
    "    logging.info(f\"Time taken: {time.time() - start_time}\")\n",
    "    print(f\"eval info: {eval_info} and Time taken: {time.time() - start_time}\")"
   ]
  },
  {
   "cell_type": "code",
   "execution_count": 27,
   "metadata": {
    "colab": {
     "base_uri": "https://localhost:8080/",
     "height": 35
    },
    "id": "EHvG72VYESJr",
    "outputId": "20dddd63-61a5-491e-a05b-9333c6d0b6a0"
   },
   "outputs": [
    {
     "name": "stdout",
     "output_type": "stream",
     "text": [
      "(20, 400)\n",
      "(9, 400)\n",
      "(54, 400)\n",
      "(55, 400)\n",
      "(26, 400)\n",
      "(9, 400)\n",
      "(7, 400)\n",
      "(53, 400)\n",
      "(36, 400)\n",
      "(19, 400)\n"
     ]
    },
    {
     "data": {
      "text/plain": [
       "(64, 400)"
      ]
     },
     "execution_count": 27,
     "metadata": {},
     "output_type": "execute_result"
    }
   ],
   "source": [
    "#np.array(news_vecs).shape, user_vecs.shape\n",
    "\n",
    "for new_vec in news_vecs[:10]:\n",
    "    print(new_vec.shape)\n",
    "user_vecs.shape"
   ]
  },
  {
   "cell_type": "code",
   "execution_count": 29,
   "metadata": {},
   "outputs": [
    {
     "data": {
      "text/plain": [
       "(20,)"
      ]
     },
     "execution_count": 29,
     "metadata": {},
     "output_type": "execute_result"
    }
   ],
   "source": [
    "(news_vecs[0] @ user_vecs[0]).shape"
   ]
  },
  {
   "cell_type": "code",
   "execution_count": null,
   "metadata": {},
   "outputs": [],
   "source": []
  },
  {
   "cell_type": "code",
   "execution_count": 24,
   "metadata": {
    "colab": {
     "base_uri": "https://localhost:8080/",
     "height": 167
    },
    "id": "2WXOTRnJ7now",
    "outputId": "354918bf-9845-4ddd-a6c9-d9ad8b278971"
   },
   "outputs": [
    {
     "data": {
      "text/plain": [
       "(64, 400)"
      ]
     },
     "execution_count": 24,
     "metadata": {},
     "output_type": "execute_result"
    }
   ],
   "source": [
    "user_vecs.shape\n",
    "#score = torch.bmm(news_vec, user_vecs.expand_dims(-1)).squeeze(dim=-1)"
   ]
  },
  {
   "cell_type": "code",
   "execution_count": 25,
   "metadata": {
    "id": "hO8Gn7DusMtR"
   },
   "outputs": [
    {
     "ename": "ValueError",
     "evalue": "all input arrays must have the same shape",
     "output_type": "error",
     "traceback": [
      "\u001b[0;31m---------------------------------------------------------------------------\u001b[0m",
      "\u001b[0;31mValueError\u001b[0m                                Traceback (most recent call last)",
      "\u001b[0;32m<ipython-input-25-63aba6a3ed89>\u001b[0m in \u001b[0;36m<module>\u001b[0;34m\u001b[0m\n\u001b[1;32m      3\u001b[0m \u001b[0;34m\u001b[0m\u001b[0m\n\u001b[1;32m      4\u001b[0m np.dot(\n\u001b[0;32m----> 5\u001b[0;31m                 \u001b[0mnp\u001b[0m\u001b[0;34m.\u001b[0m\u001b[0mstack\u001b[0m\u001b[0;34m(\u001b[0m\u001b[0;34m[\u001b[0m\u001b[0mi\u001b[0m \u001b[0;32mfor\u001b[0m \u001b[0mi\u001b[0m \u001b[0;32min\u001b[0m \u001b[0mnews_vecs\u001b[0m\u001b[0;34m]\u001b[0m\u001b[0;34m,\u001b[0m \u001b[0maxis\u001b[0m\u001b[0;34m=\u001b[0m\u001b[0;36m0\u001b[0m\u001b[0;34m)\u001b[0m\u001b[0;34m,\u001b[0m\u001b[0;34m\u001b[0m\u001b[0;34m\u001b[0m\u001b[0m\n\u001b[0m\u001b[1;32m      6\u001b[0m                 \u001b[0muser_vecs\u001b[0m\u001b[0;34m,\u001b[0m\u001b[0;34m\u001b[0m\u001b[0;34m\u001b[0m\u001b[0m\n\u001b[1;32m      7\u001b[0m             )\n",
      "\u001b[0;32m<__array_function__ internals>\u001b[0m in \u001b[0;36mstack\u001b[0;34m(*args, **kwargs)\u001b[0m\n",
      "\u001b[0;32m~/anaconda3/envs/datascience/lib/python3.9/site-packages/numpy/core/shape_base.py\u001b[0m in \u001b[0;36mstack\u001b[0;34m(arrays, axis, out)\u001b[0m\n\u001b[1;32m    424\u001b[0m     \u001b[0mshapes\u001b[0m \u001b[0;34m=\u001b[0m \u001b[0;34m{\u001b[0m\u001b[0marr\u001b[0m\u001b[0;34m.\u001b[0m\u001b[0mshape\u001b[0m \u001b[0;32mfor\u001b[0m \u001b[0marr\u001b[0m \u001b[0;32min\u001b[0m \u001b[0marrays\u001b[0m\u001b[0;34m}\u001b[0m\u001b[0;34m\u001b[0m\u001b[0;34m\u001b[0m\u001b[0m\n\u001b[1;32m    425\u001b[0m     \u001b[0;32mif\u001b[0m \u001b[0mlen\u001b[0m\u001b[0;34m(\u001b[0m\u001b[0mshapes\u001b[0m\u001b[0;34m)\u001b[0m \u001b[0;34m!=\u001b[0m \u001b[0;36m1\u001b[0m\u001b[0;34m:\u001b[0m\u001b[0;34m\u001b[0m\u001b[0;34m\u001b[0m\u001b[0m\n\u001b[0;32m--> 426\u001b[0;31m         \u001b[0;32mraise\u001b[0m \u001b[0mValueError\u001b[0m\u001b[0;34m(\u001b[0m\u001b[0;34m'all input arrays must have the same shape'\u001b[0m\u001b[0;34m)\u001b[0m\u001b[0;34m\u001b[0m\u001b[0;34m\u001b[0m\u001b[0m\n\u001b[0m\u001b[1;32m    427\u001b[0m \u001b[0;34m\u001b[0m\u001b[0m\n\u001b[1;32m    428\u001b[0m     \u001b[0mresult_ndim\u001b[0m \u001b[0;34m=\u001b[0m \u001b[0marrays\u001b[0m\u001b[0;34m[\u001b[0m\u001b[0;36m0\u001b[0m\u001b[0;34m]\u001b[0m\u001b[0;34m.\u001b[0m\u001b[0mndim\u001b[0m \u001b[0;34m+\u001b[0m \u001b[0;36m1\u001b[0m\u001b[0;34m\u001b[0m\u001b[0;34m\u001b[0m\u001b[0m\n",
      "\u001b[0;31mValueError\u001b[0m: all input arrays must have the same shape"
     ]
    }
   ],
   "source": [
    "\n",
    "#loss = criterion(score, targets)\n",
    "\n",
    "\n",
    "np.dot(\n",
    "                np.stack([i for i in news_vecs], axis=0),\n",
    "                user_vecs,\n",
    "            )"
   ]
  },
  {
   "cell_type": "code",
   "execution_count": null,
   "metadata": {
    "colab": {
     "base_uri": "https://localhost:8080/"
    },
    "id": "a7QWzKi2hvcj",
    "outputId": "07bba777-ef4e-4fc8-c9bf-0de66f636f6b"
   },
   "outputs": [],
   "source": [
    "loss.data"
   ]
  },
  {
   "cell_type": "markdown",
   "metadata": {
    "id": "qrEc27EYIlOm"
   },
   "source": [
    "## Train the NRMS model"
   ]
  },
  {
   "cell_type": "code",
   "execution_count": null,
   "metadata": {
    "id": "2Lx-vRMwIlOn"
   },
   "outputs": [],
   "source": [
    "iterator = MINDIterator"
   ]
  },
  {
   "cell_type": "code",
   "execution_count": null,
   "metadata": {
    "colab": {
     "base_uri": "https://localhost:8080/"
    },
    "id": "LmWQeNjGIlOn",
    "outputId": "cf61d8c0-1685-4e68-f876-c0fe7d7f4422",
    "scrolled": true
   },
   "outputs": [],
   "source": [
    "model = NRMSModel(hparams, iterator, seed=seed)"
   ]
  },
  {
   "cell_type": "code",
   "execution_count": null,
   "metadata": {
    "id": "3ibGDQQX8Gqq"
   },
   "outputs": [],
   "source": [
    "_= model.test_iterator.load_data_from_file(valid_news_file, valid_behaviors_file)"
   ]
  },
  {
   "cell_type": "code",
   "execution_count": null,
   "metadata": {
    "colab": {
     "base_uri": "https://localhost:8080/"
    },
    "id": "c4yRjnxt9-9C",
    "outputId": "f57820dc-246e-46e1-cd63-bcacccce1650"
   },
   "outputs": [],
   "source": [
    "dir(model)"
   ]
  },
  {
   "cell_type": "code",
   "execution_count": null,
   "metadata": {
    "colab": {
     "base_uri": "https://localhost:8080/"
    },
    "id": "4oK87z5H9K7C",
    "outputId": "323b35d8-9bdf-4581-e1a7-edd4e8cbf311"
   },
   "outputs": [],
   "source": [
    "dir(model.test_iterator)\n"
   ]
  },
  {
   "cell_type": "code",
   "execution_count": null,
   "metadata": {
    "id": "4EH52g39-vS-"
   },
   "outputs": [],
   "source": [
    "??model.test_iterator.load_data_from_file"
   ]
  },
  {
   "cell_type": "code",
   "execution_count": null,
   "metadata": {
    "id": "l2Y8NviY-28H"
   },
   "outputs": [],
   "source": [
    "#news_file\n",
    "model.test_iterator.init_news(valid_news_file)"
   ]
  },
  {
   "cell_type": "code",
   "execution_count": null,
   "metadata": {
    "colab": {
     "base_uri": "https://localhost:8080/",
     "height": 451
    },
    "id": "rmjTMHPuIlOn",
    "outputId": "195dc2f3-c63c-40ca-d017-79d8a00ffd87"
   },
   "outputs": [],
   "source": [
    "print(model.run_eval(valid_news_file, valid_behaviors_file))"
   ]
  },
  {
   "cell_type": "code",
   "execution_count": null,
   "metadata": {
    "colab": {
     "base_uri": "https://localhost:8080/"
    },
    "id": "nHod9y7bIlOo",
    "outputId": "e703554e-cae0-4a9c-a538-08845e9e3ca0"
   },
   "outputs": [],
   "source": [
    "%%time\n",
    "model.fit(train_news_file, train_behaviors_file, valid_news_file, valid_behaviors_file)"
   ]
  },
  {
   "cell_type": "code",
   "execution_count": null,
   "metadata": {
    "colab": {
     "background_save": true
    },
    "id": "tp_Mf-KnIlOo",
    "outputId": "9e5a0da9-12a8-437d-c23e-f6e700bc32ce"
   },
   "outputs": [],
   "source": [
    "%%time\n",
    "res_syn = model.run_eval(valid_news_file, valid_behaviors_file)\n",
    "print(res_syn)\n"
   ]
  },
  {
   "cell_type": "code",
   "execution_count": null,
   "metadata": {
    "colab": {
     "background_save": true
    },
    "id": "RPRQUGGyIlOp",
    "outputId": "04eec3e9-3335-489d-fe0a-cf25855a291a"
   },
   "outputs": [],
   "source": [
    "sb.glue(\"res_syn\", res_syn)"
   ]
  },
  {
   "cell_type": "markdown",
   "metadata": {
    "id": "Z_ahaftzIlOp"
   },
   "source": [
    "## Save the model"
   ]
  },
  {
   "cell_type": "markdown",
   "metadata": {
    "id": "LK3ARC4--adM"
   },
   "source": []
  },
  {
   "cell_type": "code",
   "execution_count": null,
   "metadata": {
    "colab": {
     "background_save": true
    },
    "id": "1MtPU8AUIlOp"
   },
   "outputs": [],
   "source": [
    "model_path = os.path.join(data_path, \"model\")\n",
    "os.makedirs(model_path, exist_ok=True)\n",
    "\n",
    "model.model.save_weights(os.path.join(model_path, \"nrms_ckpt\"))"
   ]
  },
  {
   "cell_type": "markdown",
   "metadata": {
    "id": "PoFwqhD-IlOp"
   },
   "source": [
    "## Output Predcition File\n",
    "This code segment is used to generate the prediction.zip file, which is in the same format in [MIND Competition Submission Tutorial](https://competitions.codalab.org/competitions/24122#learn_the_details-submission-guidelines).\n",
    "\n",
    "Please change the `MIND_type` parameter to `large` if you want to submit your prediction to [MIND Competition](https://msnews.github.io/competition.html)."
   ]
  },
  {
   "cell_type": "code",
   "execution_count": null,
   "metadata": {
    "id": "_WKJ_60_ykHb"
   },
   "outputs": [],
   "source": [
    "test_news_file = os.path.join(data_path, 'MINDlarge_test', r'news.tsv')\n",
    "test_behaviors_file = os.path.join(data_path, 'MINDlarge_test', r'behaviors.tsv')\n"
   ]
  },
  {
   "cell_type": "code",
   "execution_count": null,
   "metadata": {
    "colab": {
     "background_save": true
    },
    "id": "PWceBziIIlOp",
    "outputId": "77fea63b-5ad6-4428-a010-7aab31d21a48"
   },
   "outputs": [],
   "source": [
    "group_impr_indexes, group_labels, group_preds = model.run_fast_eval(test_news_file, test_behaviors_file)"
   ]
  },
  {
   "cell_type": "code",
   "execution_count": null,
   "metadata": {
    "colab": {
     "background_save": true
    },
    "id": "vNTTOn7NIlOq",
    "outputId": "05cda72a-97e8-48a3-c85a-021ff1944318"
   },
   "outputs": [],
   "source": [
    "with open(os.path.join(data_path, 'prediction.txt'), 'w') as f:\n",
    "    for impr_index, preds in tqdm(zip(group_impr_indexes, group_preds)):\n",
    "        impr_index += 1\n",
    "        pred_rank = (np.argsort(np.argsort(preds)[::-1]) + 1).tolist()\n",
    "        pred_rank = '[' + ','.join([str(i) for i in pred_rank]) + ']'\n",
    "        f.write(' '.join([str(impr_index), pred_rank])+ '\\n')"
   ]
  },
  {
   "cell_type": "code",
   "execution_count": null,
   "metadata": {
    "colab": {
     "background_save": true
    },
    "id": "9_xKcRYyIlOq"
   },
   "outputs": [],
   "source": [
    "f = zipfile.ZipFile(os.path.join(data_path, 'prediction.zip'), 'w', zipfile.ZIP_DEFLATED)\n",
    "f.write(os.path.join(data_path, 'prediction.txt'), arcname='prediction.txt')\n",
    "f.close()"
   ]
  },
  {
   "cell_type": "markdown",
   "metadata": {
    "id": "QWhPpQm6IlOq"
   },
   "source": [
    "## Reference\n",
    "\\[1\\] Wu et al. \"Neural News Recommendation with Multi-Head Self-Attention.\" in Proceedings of the 2019 Conference on Empirical Methods in Natural Language Processing and the 9th International Joint Conference on Natural Language Processing (EMNLP-IJCNLP)<br>\n",
    "\\[2\\] Wu, Fangzhao, et al. \"MIND: A Large-scale Dataset for News Recommendation\" Proceedings of the 58th Annual Meeting of the Association for Computational Linguistics. https://msnews.github.io/competition.html <br>\n",
    "\\[3\\] GloVe: Global Vectors for Word Representation. https://nlp.stanford.edu/projects/glove/"
   ]
  },
  {
   "cell_type": "code",
   "execution_count": null,
   "metadata": {
    "id": "EzYzsCwmU3lX"
   },
   "outputs": [],
   "source": []
  }
 ],
 "metadata": {
  "accelerator": "GPU",
  "celltoolbar": "Tags",
  "colab": {
   "collapsed_sections": [
    "qrEc27EYIlOm"
   ],
   "include_colab_link": true,
   "name": "NRMS_pytorch.ipynb",
   "provenance": []
  },
  "kernelspec": {
   "display_name": "Python 3 (ipykernel)",
   "language": "python",
   "name": "python3"
  },
  "language_info": {
   "codemirror_mode": {
    "name": "ipython",
    "version": 3
   },
   "file_extension": ".py",
   "mimetype": "text/x-python",
   "name": "python",
   "nbconvert_exporter": "python",
   "pygments_lexer": "ipython3",
   "version": "3.9.7"
  }
 },
 "nbformat": 4,
 "nbformat_minor": 1
}
